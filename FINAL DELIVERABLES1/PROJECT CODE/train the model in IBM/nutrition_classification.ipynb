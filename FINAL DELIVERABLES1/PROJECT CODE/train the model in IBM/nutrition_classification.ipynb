{
  "nbformat": 4,
  "nbformat_minor": 0,
  "metadata": {
    "colab": {
      "provenance": []
    },
    "kernelspec": {
      "name": "python3",
      "display_name": "Python 3"
    },
    "language_info": {
      "name": "python"
    }
  },
  "cells": [
    {
      "cell_type": "code",
      "execution_count": null,
      "metadata": {
        "id": "25um5MgRXq62"
      },
      "outputs": [],
      "source": [
        "pip install -U ibm-watson-machine-learning"
      ]
    },
    {
      "cell_type": "code",
      "source": [
        "from ibm_watson_machine_learning import APIClient\n",
        "wml_credentials={\n",
        "    \"url\":\"https://us-south.ml.cloud.ibm.com\",\n",
        "    \"apikey\":\"BGB_wP_pV2ZAoyBd0J0tJ8SYUf1XpCvuzPwkefw4XhCn\"\n",
        "}\n",
        "\n",
        "client=APIClient(wml_credentials)"
      ],
      "metadata": {
        "id": "CeDf5PW8Xv1a"
      },
      "execution_count": null,
      "outputs": []
    },
    {
      "cell_type": "code",
      "source": [
        "client"
      ],
      "metadata": {
        "id": "lS8VK7GPXvsy"
      },
      "execution_count": null,
      "outputs": []
    },
    {
      "cell_type": "code",
      "source": [
        "def guid_space_name(client,nutrition_deploy):\n",
        "    space=client.spaces.get_details()\n",
        "    return(next(item for item in space['resources'] if item['entity']['name']==nutrition_deploy)['metadata']['id'])"
      ],
      "metadata": {
        "id": "9kO31YuTXvpq"
      },
      "execution_count": null,
      "outputs": []
    },
    {
      "cell_type": "code",
      "source": [
        "space_uid=guid_space_name(client,'nutrition_deploy')\n",
        "print(\"Space UID \" + space_uid)"
      ],
      "metadata": {
        "id": "N9HDUc9IXvmp"
      },
      "execution_count": null,
      "outputs": []
    },
    {
      "cell_type": "code",
      "source": [
        "client.set.default_space(space_uid)"
      ],
      "metadata": {
        "id": "afGoLpvxXvjW"
      },
      "execution_count": null,
      "outputs": []
    },
    {
      "cell_type": "code",
      "source": [
        "\n",
        "client.repository.download(\"22066c6c-17f6-4696-b7db-0301b44f0750\",\"nutrition-classification.tar.gz\")"
      ],
      "metadata": {
        "id": "3nsQx_BHXvfz"
      },
      "execution_count": null,
      "outputs": []
    },
    {
      "cell_type": "code",
      "source": [],
      "metadata": {
        "id": "MIy-vVZ5XvbO"
      },
      "execution_count": null,
      "outputs": []
    },
    {
      "cell_type": "code",
      "source": [],
      "metadata": {
        "id": "EBCHbqsmXvWd"
      },
      "execution_count": null,
      "outputs": []
    }
  ]
}