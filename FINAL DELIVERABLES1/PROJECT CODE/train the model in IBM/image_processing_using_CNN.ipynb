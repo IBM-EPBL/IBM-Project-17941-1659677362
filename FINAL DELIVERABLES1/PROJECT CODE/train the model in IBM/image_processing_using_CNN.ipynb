{
  "nbformat": 4,
  "nbformat_minor": 0,
  "metadata": {
    "colab": {
      "provenance": []
    },
    "kernelspec": {
      "name": "python3",
      "display_name": "Python 3"
    },
    "language_info": {
      "name": "python"
    }
  },
  "cells": [
    {
      "cell_type": "code",
      "execution_count": null,
      "metadata": {
        "id": "xrppnXx6RBMF"
      },
      "outputs": [],
      "source": [
        "import os, types\n",
        "import pandas as pd\n",
        "from botocore.client import Config\n",
        "import ibm_boto3\n",
        "\n",
        "def __iter__(self): return 0\n",
        "# @hidden_cell\n",
        "# The following code accesses a file in your IBM Cloud Object Storage. It includes your credentials.\n",
        "# You might want to remove those credentials before you share the notebook.\n",
        "cos_client = ibm_boto3.client(service_name='s3',\n",
        "    ibm_api_key_id='6M0x3NG5dGXOJK4jW2jsprymfUHFFTyizls8TOseoTYw',\n",
        "    ibm_auth_endpoint=\"https://iam.cloud.ibm.com/oidc/token\",\n",
        "    config=Config(signature_version='oauth'),\n",
        "    endpoint_url='https://s3.private.us.cloud-object-storage.appdomain.cloud')\n",
        "\n",
        "bucket = 'nutritionimageprocessingusingcnn-donotdelete-pr-oaym8kuyz8vgj7'\n",
        "object_key = 'TRAIN_SET.zip'\n",
        "\n",
        "streaming_body_1 = cos_client.get_object(Bucket=bucket, Key=object_key)['Body']\n",
        "\n",
        "# Your data file was loaded into a botocore.response.StreamingBody object.\n",
        "# Please read the documentation of ibm_boto3 and pandas to learn more about the possibilities to load the data.\n",
        "# ibm_boto3 documentation: https://ibm.github.io/ibm-cos-sdk-python/\n",
        "# pandas documentation: http://pandas.pydata.org/\n"
      ]
    },
    {
      "cell_type": "code",
      "source": [
        "from io import BytesIO\n",
        "import zipfile\n",
        "unzip=zipfile.ZipFile(BytesIO(streaming_body_1.read()),'r')\n",
        "file_paths=unzip.namelist()\n",
        "for path in file_paths:\n",
        "    unzip.extract(path)"
      ],
      "metadata": {
        "id": "Q2-tx-rhRP7n"
      },
      "execution_count": null,
      "outputs": []
    },
    {
      "cell_type": "code",
      "source": [
        "ls"
      ],
      "metadata": {
        "id": "btEKwSQsRe10"
      },
      "execution_count": null,
      "outputs": []
    },
    {
      "cell_type": "code",
      "source": [
        "pwd"
      ],
      "metadata": {
        "id": "x0o7sGQmReiE"
      },
      "execution_count": null,
      "outputs": []
    },
    {
      "cell_type": "code",
      "source": [
        "from keras.preprocessing.image import ImageDataGenerator\n",
        "import numpy as np#used for numerical analysis\n",
        "import tensorflow #open source used for both ML and DL for computation\n",
        "from tensorflow.keras.models import Sequential #it is a plain stack of Layers\n",
        "from tensorflow.keras import layers #A Layer consists of a tensor-in tensor-out computation function\n",
        "#Dense Layer is the regular deeply connected neural network Layer\n",
        "from tensorflow.keras.layers import Dense, Flatten\n",
        "#Faltten-used fot flattening the input or change the dimension\n",
        "from tensorflow.keras.layers import Conv2D, MaxPooling2D,Dropout #Convolutional layer\n",
        "#MaxPooling2D-for downsampling the image\n",
        "from keras.preprocessing.image import ImageDataGenerator"
      ],
      "metadata": {
        "id": "y1qyOMkERoNL"
      },
      "execution_count": null,
      "outputs": []
    },
    {
      "cell_type": "code",
      "source": [
        "train_datagen = ImageDataGenerator(rescale=1./255,shear_range=0.2,zoom_range=0.2,horizontal_flip=True)\n",
        "test_datagen=ImageDataGenerator(rescale=1./255)"
      ],
      "metadata": {
        "id": "pwnwyfgKRoJr"
      },
      "execution_count": null,
      "outputs": []
    },
    {
      "cell_type": "code",
      "source": [
        "x_train = train_datagen.flow_from_directory(\n",
        "    r'/home/wsuser/work/TRAIN_SET',\n",
        "    target_size=(64, 64),batch_size=5,color_mode='rgb',class_mode='sparse')\n",
        "x_test = test_datagen.flow_from_directory(\n",
        "    r'/home/wsuser/work/TRAIN_SET',\n",
        "    target_size=(64, 64),batch_size=5,color_mode='rgb',class_mode='sparse') "
      ],
      "metadata": {
        "id": "Ii1GIto8Rn7X"
      },
      "execution_count": null,
      "outputs": []
    },
    {
      "cell_type": "markdown",
      "source": [
        "Found 2626 images belonging to 5 classes.\n",
        "Found 2626 images belonging to 5 classes."
      ],
      "metadata": {
        "id": "gUsY1EEBR5Ip"
      }
    },
    {
      "cell_type": "code",
      "source": [
        "print(x_train.class_indices)#checking the number of classes"
      ],
      "metadata": {
        "id": "X4hJnXZMRno1"
      },
      "execution_count": null,
      "outputs": []
    },
    {
      "cell_type": "code",
      "source": [
        "print(x_test.class_indices) #checking the number of classes"
      ],
      "metadata": {
        "id": "kKxkCSPXSGBA"
      },
      "execution_count": null,
      "outputs": []
    },
    {
      "cell_type": "code",
      "source": [
        "from collections import Counter as c \n",
        "c(x_train .labels)"
      ],
      "metadata": {
        "id": "zC7Ol-GbRnRM"
      },
      "execution_count": null,
      "outputs": []
    },
    {
      "cell_type": "markdown",
      "source": [
        "Counter({0: 606, 1: 445, 2: 479, 3: 621, 4: 475})"
      ],
      "metadata": {
        "id": "kyEE2JcdSlOQ"
      }
    },
    {
      "cell_type": "code",
      "source": [
        "model=Sequential()"
      ],
      "metadata": {
        "id": "vAfqcMu8SgAK"
      },
      "execution_count": null,
      "outputs": []
    },
    {
      "cell_type": "code",
      "source": [
        "# Initializing the CNN classifier = Sequential()\n",
        "classifier = Sequential()\n",
        "# First convolution layer and pooling\n",
        "classifier.add(Conv2D(32,(3, 3), input_shape=(64, 64, 3),activation='relu')) \n",
        "classifier.add(MaxPooling2D(pool_size=(2, 2)))\n",
        "# Second convolution layer and pooling\n",
        "classifier.add(Conv2D(32, (3, 3), activation='relu'))\n",
        "# input_shape is going to be the pooled feature maps from the previous convolution layer \n",
        "classifier.add(MaxPooling2D(pool_size=(2, 2)))\n",
        "# Flattening the Layers\n",
        "classifier.add(Flatten())\n",
        "# Adding fully connected Layer a\n",
        "classifier.add(Dense (units=128, activation='relu'))\n",
        "classifier.add(Dense (units=5, activation='softmax')) # softmax for more than 2"
      ],
      "metadata": {
        "id": "Xrf1hvW0SgIv"
      },
      "execution_count": null,
      "outputs": []
    },
    {
      "cell_type": "code",
      "source": [
        "classifier.summary()"
      ],
      "metadata": {
        "id": "1uTGlcEuSgY4"
      },
      "execution_count": null,
      "outputs": []
    },
    {
      "cell_type": "code",
      "source": [
        "classifier.compile(optimizer='adam', loss='sparse_categorical_crossentropy', metrics=['accuracy'])"
      ],
      "metadata": {
        "id": "WWBU03cnSgk_"
      },
      "execution_count": null,
      "outputs": []
    },
    {
      "cell_type": "code",
      "source": [
        "##Fitting the model\n",
        "classifier.fit_generator(\n",
        "    generator=x_train,steps_per_epoch = len(x_train), \n",
        "    epochs=20,validation_data=x_test,validation_steps = len(x_test)) # No of images in test set"
      ],
      "metadata": {
        "id": "WpuZrVdCSgvB"
      },
      "execution_count": null,
      "outputs": []
    },
    {
      "cell_type": "code",
      "source": [
        "1s"
      ],
      "metadata": {
        "id": "ggt3tT1fSg1k"
      },
      "execution_count": null,
      "outputs": []
    },
    {
      "cell_type": "markdown",
      "source": [
        "nutrition.h5  TRAIN_SET/"
      ],
      "metadata": {
        "id": "al5KSqmHTodW"
      }
    },
    {
      "cell_type": "code",
      "source": [
        "classifier.save('nutrition.h5')"
      ],
      "metadata": {
        "id": "5-fgHTVgShBZ"
      },
      "execution_count": null,
      "outputs": []
    },
    {
      "cell_type": "markdown",
      "source": [
        "nutrition.h5  TRAIN_SET/"
      ],
      "metadata": {
        "id": "MtQdO-nCT5TG"
      }
    },
    {
      "cell_type": "code",
      "source": [
        "pwd"
      ],
      "metadata": {
        "id": "jhEzAL3mTxp1"
      },
      "execution_count": null,
      "outputs": []
    },
    {
      "cell_type": "markdown",
      "source": [
        "'/home/wsuser/work'"
      ],
      "metadata": {
        "id": "vqKDI6FzTySu"
      }
    },
    {
      "cell_type": "code",
      "source": [
        "### Predicting our results\n",
        "from tensorflow.keras.models import load_model\n",
        "from keras.preprocessing import image\n",
        "model = load_model(\"nutrition.h5\") #Loading the model for testing\n",
        "from tensorflow.keras.preprocessing import image"
      ],
      "metadata": {
        "id": "mBgiNweWTy4f"
      },
      "execution_count": null,
      "outputs": []
    },
    {
      "cell_type": "code",
      "source": [
        "img =image.load_img(r\"/home/wsuser/work/TRAIN_SET/ORANGE/100_100.jpg\",grayscale=False, target_size= (64,64))\n",
        "x = image.img_to_array(img)#image to array\n",
        "x = np.expand_dims(x,axis=0) #changing the shape =\n",
        "y =np.argmax(model.predict(x),axis=1)\n",
        "index=['APPLES', 'BANANA', 'ORANGE','PINEAPPLE','WATERMELON']\n",
        "index[y[0]]"
      ],
      "metadata": {
        "id": "LaDnfbvQTzS1"
      },
      "execution_count": null,
      "outputs": []
    },
    {
      "cell_type": "markdown",
      "source": [
        "'ORANGE'\n",
        "**IBM Deployment**"
      ],
      "metadata": {
        "id": "fHjFdNMSURyQ"
      }
    },
    {
      "cell_type": "code",
      "source": [
        "!pip install watson-machine-learning-client"
      ],
      "metadata": {
        "id": "RZIv4uvHTz2Z"
      },
      "execution_count": null,
      "outputs": []
    },
    {
      "cell_type": "code",
      "source": [
        "!pip install keras==2.2.4\n",
        "!pip install tensorflow==2.5.0"
      ],
      "metadata": {
        "id": "z8P1Y8BfUilj"
      },
      "execution_count": null,
      "outputs": []
    },
    {
      "cell_type": "code",
      "source": [
        "from ibm_watson_machine_learning import APIClient\n",
        "wml_credentials={\n",
        "    \"url\":\"https://us-south.ml.cloud.ibm.com\",\n",
        "    \"apikey\":\"BGB_wP_pV2ZAoyBd0J0tJ8SYUf1XpCvuzPwkefw4XhCn\"\n",
        "}\n",
        "\n",
        "client=APIClient(wml_credentials)"
      ],
      "metadata": {
        "id": "kwrWnzU5UvxQ"
      },
      "execution_count": null,
      "outputs": []
    },
    {
      "cell_type": "code",
      "source": [
        "client"
      ],
      "metadata": {
        "id": "gjT9UBQZU0N3"
      },
      "execution_count": null,
      "outputs": []
    },
    {
      "cell_type": "code",
      "source": [
        "def guid_space_name(client,nutrition_deploy):\n",
        "    space=client.spaces.get_details()\n",
        "    return(next(item for item in space['resources'] if item['entity']['name']==nutrition_deploy)['metadata']['id'])\n"
      ],
      "metadata": {
        "id": "lw0qFCq9U1uY"
      },
      "execution_count": null,
      "outputs": []
    },
    {
      "cell_type": "markdown",
      "source": [
        "DEPLOYMENT\n",
        "\n",
        "\n",
        "\n"
      ],
      "metadata": {
        "id": "29lkJdsaU82X"
      }
    },
    {
      "cell_type": "code",
      "source": [
        "space_uid=guid_space_name(client,'nutrition_deploy')\n",
        "print(\"Space UID \" + space_uid)"
      ],
      "metadata": {
        "id": "2V_kQ0e8VJaP"
      },
      "execution_count": null,
      "outputs": []
    },
    {
      "cell_type": "code",
      "source": [
        "client.set.default_space(space_uid)"
      ],
      "metadata": {
        "id": "3oeSNuyUVOG8"
      },
      "execution_count": null,
      "outputs": []
    },
    {
      "cell_type": "markdown",
      "source": [
        "'SUCCESS'"
      ],
      "metadata": {
        "id": "rHY8-vORVWob"
      }
    },
    {
      "cell_type": "code",
      "source": [
        "client.software_specifications.list(200)"
      ],
      "metadata": {
        "id": "bbs5UOpOVXGU"
      },
      "execution_count": null,
      "outputs": []
    },
    {
      "cell_type": "code",
      "source": [
        "software_space_uid=client.software_specifications.get_uid_by_name('tensorflow_rt22.1-py3.9')"
      ],
      "metadata": {
        "id": "lLArpDGTVarl"
      },
      "execution_count": null,
      "outputs": []
    },
    {
      "cell_type": "code",
      "source": [
        "software_space_uid"
      ],
      "metadata": {
        "id": "83uwxH8ZVsSB"
      },
      "execution_count": null,
      "outputs": []
    },
    {
      "cell_type": "code",
      "source": [
        "!tar -zcvf nutrition-classification-model.tgz nutrition.h5"
      ],
      "metadata": {
        "id": "qjWBEVNwVr-D"
      },
      "execution_count": null,
      "outputs": []
    },
    {
      "cell_type": "markdown",
      "source": [
        "nutrition.h5"
      ],
      "metadata": {
        "id": "2IaDGsQKV3jI"
      }
    },
    {
      "cell_type": "code",
      "source": [
        "model_details=client.repository.store_model(model ='nutrition-classification-model.tgz', meta_props={\n",
        "    client.repository.ModelMetaNames.NAME: \"CNN Model Building\",\n",
        "    client.repository.ModelMetaNames.TYPE: 'tensorflow_2.7',\n",
        "    client.repository.ModelMetaNames.SOFTWARE_SPEC_UID: software_space_uid\n",
        "})"
      ],
      "metadata": {
        "id": "6hTw1sHUV3SA"
      },
      "execution_count": null,
      "outputs": []
    },
    {
      "cell_type": "code",
      "source": [
        "model_details=client.repository.get_model_id(model_details)"
      ],
      "metadata": {
        "id": "zpKWskR7V9TQ"
      },
      "execution_count": null,
      "outputs": []
    },
    {
      "cell_type": "code",
      "source": [
        "model_id"
      ],
      "metadata": {
        "id": "xvYxrmpEV9AA"
      },
      "execution_count": null,
      "outputs": []
    },
    {
      "cell_type": "code",
      "source": [
        "1S"
      ],
      "metadata": {
        "id": "8688rUNjWEEa"
      },
      "execution_count": null,
      "outputs": []
    },
    {
      "cell_type": "code",
      "source": [
        "client.repository.download(model_id,'nutrition.tar.gb')"
      ],
      "metadata": {
        "id": "-cbOsYgvWSCV"
      },
      "execution_count": null,
      "outputs": []
    },
    {
      "cell_type": "code",
      "source": [
        "pwd"
      ],
      "metadata": {
        "id": "FxhihXcMWiot"
      },
      "execution_count": null,
      "outputs": []
    }
  ]
}